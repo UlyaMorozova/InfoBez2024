{
 "cells": [
  {
   "cell_type": "code",
   "execution_count": 1,
   "id": "b2de9807-f9d0-45ce-a31b-fc1e5b4ebcad",
   "metadata": {},
   "outputs": [],
   "source": [
    "import random\n",
    "import string"
   ]
  },
  {
   "cell_type": "code",
   "execution_count": 3,
   "id": "dddadc79-332b-47f6-9db8-8a4be396ee5e",
   "metadata": {},
   "outputs": [],
   "source": [
    "def generate_key_hex(text):\n",
    "    key = ''\n",
    "    for i in range(len(text)):\n",
    "        key += random.choice(string.ascii_letters + string.digits)\n",
    "    return key    "
   ]
  },
  {
   "cell_type": "code",
   "execution_count": 4,
   "id": "cec5e5bb-2e03-4427-9711-2448bf6a2726",
   "metadata": {},
   "outputs": [],
   "source": [
    "def en_de_crypt(text, key):\n",
    "    new_text = ''\n",
    "    for i in range(len(text)):\n",
    "        new_text += chr(ord(text[i]) ^ ord(key[i % len(key)]))\n",
    "    return new_text    "
   ]
  },
  {
   "cell_type": "code",
   "execution_count": 6,
   "id": "6fdcfc92-8082-47f1-8662-b93727ccbf29",
   "metadata": {},
   "outputs": [],
   "source": [
    "t1 = 'С Новым годом, друзья!'\n",
    "key = generate_key_hex(t1)\n",
    "en_t1 = en_de_crypt(t1, key)\n",
    "de_t1 = en_de_crypt(en_t1, key)\n",
    "\n",
    "t2 = 'У Слона домов, огого!!'\n",
    "en_t2 = en_de_crypt(t2, key)\n",
    "de_t2 = en_de_crypt(en_t2, key)"
   ]
  },
  {
   "cell_type": "code",
   "execution_count": 7,
   "id": "0b943a12-17e6-4942-94ad-97a136e15b23",
   "metadata": {},
   "outputs": [
    {
     "name": "stdout",
     "output_type": "stream",
     "text": [
      "Открытый текст:  С Новым годом, друзья! \n",
      "Ключ:  0B5p1jWhwrdZtxTyhgk9g4 \n",
      "Шифротекст:  БbШюЃСѫHфьѐѤшTtэШФќѵШ\u0015 \n",
      "Исходный текст:  С Новым годом, друзья!\n",
      "Открытый текст:  У Слона домов, огого!! \n",
      "Ключ:  0B5p1jWhwrdZtxTyhgk9g4 \n",
      "Шифротекст:  ГbДыЏїѧHуьјѤцTtчћљјЇF\u0015 \n",
      "Исходный текст:  У Слона домов, огого!!\n",
      "Расшифровать второй текст, зная первый:  У Слона домов, огого!!\n",
      "Расшифровать первый текст, зная второй:  С Новым годом, друзья!\n"
     ]
    }
   ],
   "source": [
    "print('Открытый текст: ', t1, \"\\nКлюч: \", key, '\\nШифротекст: ', en_t1, '\\nИсходный текст: ', de_t1,)\n",
    "print('Открытый текст: ', t2, \"\\nКлюч: \", key, '\\nШифротекст: ', en_t2, '\\nИсходный текст: ', de_t2,)\n",
    "r = en_de_crypt(en_t2, en_t1)\n",
    "print('Расшифровать второй текст, зная первый: ', en_de_crypt(t1, r))\n",
    "print('Расшифровать первый текст, зная второй: ', en_de_crypt(t2, r))"
   ]
  },
  {
   "cell_type": "code",
   "execution_count": null,
   "id": "72fb7a31-3830-4bbc-bb7b-ad95e3a5da28",
   "metadata": {},
   "outputs": [],
   "source": []
  }
 ],
 "metadata": {
  "kernelspec": {
   "display_name": "Python 3 (ipykernel)",
   "language": "python",
   "name": "python3"
  },
  "language_info": {
   "codemirror_mode": {
    "name": "ipython",
    "version": 3
   },
   "file_extension": ".py",
   "mimetype": "text/x-python",
   "name": "python",
   "nbconvert_exporter": "python",
   "pygments_lexer": "ipython3",
   "version": "3.10.7"
  }
 },
 "nbformat": 4,
 "nbformat_minor": 5
}
