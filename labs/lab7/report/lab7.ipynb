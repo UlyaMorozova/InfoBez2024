{
 "cells": [
  {
   "cell_type": "code",
   "execution_count": 1,
   "id": "e58b27aa-b5b7-4104-9e10-81b36926a71d",
   "metadata": {},
   "outputs": [],
   "source": [
    "import random\n",
    "import string"
   ]
  },
  {
   "cell_type": "code",
   "execution_count": 2,
   "id": "313af7e4-4f30-4f4d-8884-aba0beb7d036",
   "metadata": {},
   "outputs": [],
   "source": [
    "def generate_key_hex(text):\n",
    "    key = ''\n",
    "    for i in range(len(text)):\n",
    "        key += random.choice(string.ascii_letters + string.digits) #генерация цифры для каждого символа в тексте\n",
    "    return key"
   ]
  },
  {
   "cell_type": "code",
   "execution_count": 3,
   "id": "0ae9c2a3-e32e-4339-86fc-3e09e1c768c6",
   "metadata": {},
   "outputs": [],
   "source": [
    "#для шифрования и дешифрования\n",
    "def en_de_crypt(text, key):\n",
    "    new_text = ''\n",
    "    for i in range(len(text)): #проход по каждому символу в тексте\n",
    "        new_text += chr(ord(text[i]) ^ ord(key[i % len(key)]))\n",
    "    return new_text"
   ]
  },
  {
   "cell_type": "code",
   "execution_count": 4,
   "id": "aae81ebb-1ed2-440c-8342-2cbb3f66116f",
   "metadata": {},
   "outputs": [],
   "source": [
    "def find_possible_key(text, fragment):\n",
    "    possible_keys = []\n",
    "    for i in range(len(text) - len(fragment) + 1):\n",
    "        possible_key = \"\"\n",
    "        for j in range(len(fragment)):\n",
    "            possible_key += chr(ord(text[i + j]) ^ ord(fragment[j]))\n",
    "        possible_keys.append(possible_key)\n",
    "    return possible_keys"
   ]
  },
  {
   "cell_type": "code",
   "execution_count": 5,
   "id": "7f641699-819f-45bc-8291-f0bcd15ba2e3",
   "metadata": {},
   "outputs": [
    {
     "name": "stdout",
     "output_type": "stream",
     "text": [
      "Открытый текст:  С Новым Годом, друзья! \n",
      "Ключ:  BYKCDCcmFLiruH3EPtHPgA \n",
      "Шифротекст:  ѣyіѽѶЈџMѕѲѝьщd\u0013ѱАзѿМШ` \n",
      "Исходный текст:  С Новым Годом, друзья! \n",
      "\n",
      "Возможные ключи:  ['BYKCDCc', 'јѶ`H:\\x14ѱ', 'wѝk6mІi', '\\\\і\\x15aѿ\\x1eN', 'WШBѳg9a', ')ѿѐk@\\x16p', '~mHLo\\x07u', 'Ѭѵoc~\\x02ј', 'tђ@r{ЯЯ', 'SѽQwіјM', '|ѬTњС:,', 'mѩѹЭC[\\x0b', 'hDЎO\"|C', 'х3l.\\x054 ', 'вё\\r\\tMW\\x14', 'Pа*A.cќ']\n",
      "Расшифрованный фрагмент:  С Новым\u000fЌйОЈЊ\u0007QШћѴлџы\"\n"
     ]
    }
   ],
   "source": [
    "t = 'С Новым Годом, друзья!'\n",
    "key = generate_key_hex(t)\n",
    "en_t = en_de_crypt(t, key)\n",
    "de_t = en_de_crypt(en_t, key)\n",
    "keys_t_f = find_possible_key(en_t, 'С Новым')\n",
    "fragment = \"С Новым\"\n",
    "print('Открытый текст: ', t, \"\\nКлюч: \", key, '\\nШифротекст: ', en_t, '\\nИсходный текст: ', de_t, '\\n')\n",
    "\n",
    "print('Возможные ключи: ', keys_t_f)\n",
    "print('Расшифрованный фрагмент: ', en_de_crypt(en_t, keys_t_f[0]))"
   ]
  },
  {
   "cell_type": "code",
   "execution_count": null,
   "id": "dc4ca42e-31cb-4e41-8e37-10a9c35be261",
   "metadata": {},
   "outputs": [],
   "source": []
  }
 ],
 "metadata": {
  "kernelspec": {
   "display_name": "Python 3 (ipykernel)",
   "language": "python",
   "name": "python3"
  },
  "language_info": {
   "codemirror_mode": {
    "name": "ipython",
    "version": 3
   },
   "file_extension": ".py",
   "mimetype": "text/x-python",
   "name": "python",
   "nbconvert_exporter": "python",
   "pygments_lexer": "ipython3",
   "version": "3.10.7"
  }
 },
 "nbformat": 4,
 "nbformat_minor": 5
}
